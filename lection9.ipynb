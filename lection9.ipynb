{
 "cells": [
  {
   "cell_type": "code",
   "execution_count": 4,
   "id": "5bd05a9d",
   "metadata": {},
   "outputs": [
    {
     "name": "stdout",
     "output_type": "stream",
     "text": [
      "2\n",
      "89\n",
      "450\n",
      "water\n"
     ]
    }
   ],
   "source": [
    "#How to use the data inside using output \n",
    "items = ['caco', 'fanta', 'water']\n",
    "price = [ 200, 300, 450 ]\n",
    "number = [ 52, 45, 89 ]\n",
    "\n",
    "user_choice = 89\n",
    "for index, value in enumerate(number):\n",
    "    if value == user_choice:\n",
    "        print(index)\n",
    "        print(value)\n",
    "        print(price[index])\n",
    "        print(items[index])"
   ]
  },
  {
   "cell_type": "code",
   "execution_count": 17,
   "id": "381988b9",
   "metadata": {},
   "outputs": [
    {
     "name": "stdout",
     "output_type": "stream",
     "text": [
      "{'age': 25}\n"
     ]
    },
    {
     "data": {
      "text/plain": [
       "False"
      ]
     },
     "execution_count": 17,
     "metadata": {},
     "output_type": "execute_result"
    }
   ],
   "source": [
    "\n",
    "d = {'name' : 'john', 'age' : 25}\n",
    "d1 = {'age' : 25 , 'name' : 'john'}\n",
    "\n",
    "del d['name']\n",
    "print(d)\n",
    "\n",
    "'age' not in d1\n",
    "\n",
    "len(d) >= len(d1)"
   ]
  },
  {
   "cell_type": "code",
   "execution_count": 16,
   "id": "f0ff4d3b",
   "metadata": {},
   "outputs": [
    {
     "name": "stdout",
     "output_type": "stream",
     "text": [
      "{'name': 'Aizere', 'surname': 'Keneskhan', 'age': '18'}\n",
      "{'name': 'Aizere', 'surname': 'Keneskhan', 'age': '18', 'height': 166}\n",
      "{'name': 'Aizere', 'surname': 'Keneskhan', 'height': 166}\n"
     ]
    }
   ],
   "source": [
    "dict0 = {'name' : 'Aizere', 'surname' : 'Keneskhan', 'age' : '18'}\n",
    "print(dict0)\n",
    "dict0['height'] = 166\n",
    "print(dict0)\n",
    "del dict0['age']\n",
    "print(dict0)"
   ]
  },
  {
   "cell_type": "code",
   "execution_count": 18,
   "id": "00dd9619",
   "metadata": {},
   "outputs": [],
   "source": [
    "import json\n",
    "\n",
    "file = open('my_json_file.txt', 'w')\n",
    "file.write('hello')\n",
    "file.close()"
   ]
  },
  {
   "cell_type": "code",
   "execution_count": 19,
   "id": "ed59b81c",
   "metadata": {},
   "outputs": [],
   "source": [
    "import json \n",
    "d = {'name' : 'Aizere', 'surname' : 'Keneskhan', 'age' : '18'}\n",
    "d2 = {'name' : 'john', 'age' : 25}\n",
    "d1 = {'age' : 25 , 'name' : 'john'}\n",
    "with open('my_json_file.json', 'w') as file:\n",
    "    json.dump(d, file)\n",
    "    json.dump(d2, file)\n",
    "    json.dump(d2, file)\n",
    "    "
   ]
  },
  {
   "cell_type": "code",
   "execution_count": 21,
   "id": "d795eab8",
   "metadata": {},
   "outputs": [
    {
     "name": "stdout",
     "output_type": "stream",
     "text": [
      "Seoul\n"
     ]
    }
   ],
   "source": [
    "d = {'Korea' : 'Seoul', 'China' : 'Beijin', 'USA' : 'Washington'}\n",
    "print(d['Korea'])"
   ]
  },
  {
   "cell_type": "code",
   "execution_count": 32,
   "id": "0def24ba",
   "metadata": {},
   "outputs": [
    {
     "name": "stdout",
     "output_type": "stream",
     "text": [
      "the price of fruit grape is 500\n"
     ]
    }
   ],
   "source": [
    "price = [200, 500, 500, 100]\n",
    "friut = ['apple', 'banana', 'grape', 'melon']\n",
    "number = [0, 1, 2, 3]\n",
    "\n",
    "user_choice = 2\n",
    "for index, value in enumerate(number):\n",
    "    if value == user_choice:\n",
    "        print('the price of fruit', friut[index], 'is', price[index])"
   ]
  },
  {
   "cell_type": "code",
   "execution_count": 33,
   "id": "d5b17ed1",
   "metadata": {},
   "outputs": [
    {
     "data": {
      "text/plain": [
       "'hi, Python'"
      ]
     },
     "execution_count": 33,
     "metadata": {},
     "output_type": "execute_result"
    }
   ],
   "source": [
    "'{}, Python'.format('hi')"
   ]
  },
  {
   "cell_type": "code",
   "execution_count": 35,
   "id": "9ba8888d",
   "metadata": {},
   "outputs": [
    {
     "data": {
      "text/plain": [
       "'hi, Python, hehe and pazat'"
      ]
     },
     "execution_count": 35,
     "metadata": {},
     "output_type": "execute_result"
    }
   ],
   "source": [
    "'{0}, Python, {1} and {2}'.format('hi', 'hehe', 'pazat')"
   ]
  },
  {
   "cell_type": "code",
   "execution_count": 37,
   "id": "62c18141",
   "metadata": {},
   "outputs": [
    {
     "name": "stdout",
     "output_type": "stream",
     "text": [
      "my number: 365365386986 $\n",
      "my number: 45678909876543 $\n",
      "my number:  1000000 $\n"
     ]
    }
   ],
   "source": [
    "print('my number: {0:8d} $'.format(365365386986))\n",
    "print('my number: {0:8d} $'.format(45678909876543))\n",
    "print('my number: {0:8d} $'.format(1000000))"
   ]
  },
  {
   "cell_type": "code",
   "execution_count": null,
   "id": "0c17dbcf",
   "metadata": {},
   "outputs": [],
   "source": []
  }
 ],
 "metadata": {
  "kernelspec": {
   "display_name": "Python 3 (ipykernel)",
   "language": "python",
   "name": "python3"
  },
  "language_info": {
   "codemirror_mode": {
    "name": "ipython",
    "version": 3
   },
   "file_extension": ".py",
   "mimetype": "text/x-python",
   "name": "python",
   "nbconvert_exporter": "python",
   "pygments_lexer": "ipython3",
   "version": "3.9.12"
  }
 },
 "nbformat": 4,
 "nbformat_minor": 5
}
